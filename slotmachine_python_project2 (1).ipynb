{
 "cells": [
  {
   "cell_type": "code",
   "execution_count": null,
   "id": "57ad8794-9728-4f50-8744-42de8bdd9f6f",
   "metadata": {
    "scrolled": true
   },
   "outputs": [
    {
     "name": "stdin",
     "output_type": "stream",
     "text": [
      "Enter the amount you want to deposit 1900\n"
     ]
    },
    {
     "name": "stdout",
     "output_type": "stream",
     "text": [
      "Current balance is $1900\n"
     ]
    },
    {
     "name": "stdin",
     "output_type": "stream",
     "text": [
      "Press enter to play (q to quit). \n",
      "Enter the no of lines to bet on(from 1-3)?  2\n",
      "What would you like to bet on each line? $ 30\n"
     ]
    },
    {
     "name": "stdout",
     "output_type": "stream",
     "text": [
      "You are betting 30 on 2 lines.Total bet is equal to:$60\n",
      "D | D | D\n",
      "D | C | B\n",
      "D | C | C\n",
      "You won $  60\n",
      "You won on lines:[1]\n",
      "You are left with $1900\n",
      "Current balance is $1900\n"
     ]
    },
    {
     "name": "stdin",
     "output_type": "stream",
     "text": [
      "Press enter to play (q to quit). \n",
      "Enter the no of lines to bet on(from 1-3)?  3\n",
      "What would you like to bet on each line? $ 40\n"
     ]
    },
    {
     "name": "stdout",
     "output_type": "stream",
     "text": [
      "You are betting 40 on 3 lines.Total bet is equal to:$120\n",
      "D | B | D\n",
      "B | C | C\n",
      "D | C | B\n",
      "You won $  0\n",
      "You won on lines:[]\n",
      "You are left with $1780\n",
      "Current balance is $1780\n"
     ]
    },
    {
     "name": "stdin",
     "output_type": "stream",
     "text": [
      "Press enter to play (q to quit). \n",
      "Enter the no of lines to bet on(from 1-3)?  2\n",
      "What would you like to bet on each line? $ 50\n"
     ]
    },
    {
     "name": "stdout",
     "output_type": "stream",
     "text": [
      "You are betting 50 on 2 lines.Total bet is equal to:$100\n",
      "B | A | B\n",
      "B | D | C\n",
      "A | C | D\n",
      "You won $  0\n",
      "You won on lines:[]\n",
      "You are left with $1680\n",
      "Current balance is $1680\n"
     ]
    },
    {
     "name": "stdin",
     "output_type": "stream",
     "text": [
      "Press enter to play (q to quit). \n",
      "Enter the no of lines to bet on(from 1-3)?  1\n",
      "What would you like to bet on each line? $ 45\n"
     ]
    },
    {
     "name": "stdout",
     "output_type": "stream",
     "text": [
      "You are betting 45 on 1 lines.Total bet is equal to:$45\n",
      "C | B | D\n",
      "D | B | C\n",
      "C | D | C\n",
      "You won $  0\n",
      "You won on lines:[]\n",
      "You are left with $1635\n",
      "Current balance is $1635\n"
     ]
    },
    {
     "name": "stdin",
     "output_type": "stream",
     "text": [
      "Press enter to play (q to quit). \n",
      "Enter the no of lines to bet on(from 1-3)?  4\n"
     ]
    },
    {
     "name": "stdout",
     "output_type": "stream",
     "text": [
      "please enter valid no of lines!\n"
     ]
    },
    {
     "name": "stdin",
     "output_type": "stream",
     "text": [
      "Enter the no of lines to bet on(from 1-3)?  2\n",
      "What would you like to bet on each line? $ 39\n"
     ]
    },
    {
     "name": "stdout",
     "output_type": "stream",
     "text": [
      "You are betting 39 on 2 lines.Total bet is equal to:$78\n",
      "D | D | D\n",
      "C | D | C\n",
      "C | B | D\n",
      "You won $  78\n",
      "You won on lines:[1]\n",
      "You are left with $1635\n",
      "Current balance is $1635\n"
     ]
    }
   ],
   "source": [
    "#slot machine m phle amount puchte h ki kitne ki bet lgani h..nd then the amount is multiplied with no of lines..ex 100 rs nd no of lines are 2 then it ll be 200 rs\n",
    "\n",
    "\n",
    "\n",
    "import random    #we import random as we want random nd fair symbols on our slot machine.,lets imagine we have 3x3 slot machine and uh win if uh get same symbol in a row in each column (aaa then uh win)\n",
    "\n",
    "\n",
    "\n",
    "max_lines=3\n",
    "max_bet=100\n",
    "min_bet=1\n",
    "\n",
    "\n",
    "# ye no of rows nd columns h in slot machine hrr column m 3 rows hngi\n",
    "rows=3\n",
    "cols=3\n",
    "\n",
    "\n",
    "# YE symbol bta rha h ki in total symbols hm a ko 2 baar use kr skte h b ko 4 c ko 6 and d ko 8 bs in a dictionary,hrr ek column m total ye symbols hnge itne\n",
    "# random function issi m se select krega hrr row k hrr column ka element\n",
    "symbol_count={\n",
    "    \"A\":2,\n",
    "    \"B\":4,\n",
    "    \"C\":6,\n",
    "    \"D\":8\n",
    "}\n",
    "\n",
    "#this is used (for ex uh win nd uh got all 3 D in one horizontal line nd you win thn the amount uh won will be the amount uh bet on the lines*the symbol_value of D i.e. 2 ,so total amount won will be $4 if bet is of $2\n",
    "symbol_value={\n",
    "    \"A\":1,\n",
    "    \"B\":4,\n",
    "    \"C\":3,\n",
    "    \"D\":2\n",
    "}\n",
    "\n",
    "\n",
    "\n",
    "\n",
    "def check_winnings(columns,lines,bet,values):\n",
    "    winnings=0           #initialization of winnings is zero \n",
    "    winning_lines=[]     #this list will hv which lines are won\n",
    "    \n",
    "                  # it is a for loop to check if it is same symbol in all the columns ---situation for \"WIN\"\n",
    "    for line in range(lines):\n",
    "        symbol=columns[0][line]  # get the symbol from the first column of current line\n",
    "\n",
    "        for column in columns:\n",
    "            symbol_to_check=column[line]   # Get the symbol from the current column of the current line.\n",
    "            if symbol!= symbol_to_check:    # If symbols do not match, break out of the loop.\n",
    "                break\n",
    "\n",
    "        else:\n",
    "            winnings=winnings+values[symbol]*bet     #add the winnings if all symbols in row matches\n",
    "            winning_lines.append(line+1)  #we added 1 to line as we want to print 1,2... and not 0,1,2...\n",
    "    \n",
    "    return winnings,winning_lines\n",
    "    \n",
    "\n",
    "\n",
    "\n",
    "\n",
    "\n",
    "\n",
    " # this functiom will generate outcome using total rows nd cols nd symbol count ,here sumbols parameter is the symbols used in symbol_count\n",
    "def get_slot_machine_spin(rows,cols,symbols):   \n",
    "    all_symbols=[]\n",
    "    for symbol,symbol_count in symbols.items(): # .items will give uh the symbol nd value of tht symbol in a dictionary(symbol nd symbol_count mil jaega)\n",
    "        for _ in range(symbol_count):\n",
    "            all_symbols.append(symbol)    #ab jb ek column m symbols print hnge thn ye all_symbols ki list m mre symbols daal dga according to symbol_count.for ex:i m looping through symbol_count dictionary nd i ll print a total 2 times in thw output\n",
    "                                          # append function is used to add items in a lisr and here the symbols using for loops are added to the all_symbols list.\n",
    "\n",
    "\n",
    "   # what values will go in every single column,column naam ki ek empty list bna do \n",
    "    columns=[]\n",
    "    for _ in range(cols): # for every column we need to generate rows,jitne column hnge utni baar loops chlega\n",
    "        column=[]\n",
    "        current_symbols=all_symbols[:] # : is used to copy a list, ab m koi b change krungi current_symbols m toh wo all_symbols ko effect krega nd vice versa bcz now they r linked together\n",
    "        for _ in range(rows):\n",
    "            value=random.choice(current_symbols) #hum current symbols(copy) jisme sb symbols included h usko random function se club krdenge taki wo choose kr ske\n",
    "            current_symbols.remove(value) #22:30\n",
    "            column.append(value) #now we want to add the value to the column list which is empty ,therefore we used append function\n",
    "\n",
    "        columns.append(column)\n",
    "\n",
    "    return columns\n",
    "\n",
    "\n",
    "\n",
    "\n",
    "\n",
    "def print_slot_machine(columns):\n",
    "   # [A,B,C]     esa code likhna h..jisse ye aajaye\n",
    "  #  [A,A,A]\n",
    "  #  []\n",
    "        \n",
    "    for row in range(len(columns[0])): # This starts a for loop that will iterate over the range of the number of rows. The len(columns[0]) gives the number of rows by getting the length of the first column (assuming all columns have the same number of rows).\n",
    "        for i,column in enumerate(columns):  #enumerate will give uh index like 0,1,2,3 in a loop with the item uh want to print ,and this for loops will help us to iterate all items inside column\n",
    "           #For columns = [['A', 'B', 'C'], ['D', 'E', 'F'], ['G', 'H', 'I']], enumerate(columns) will give:\n",
    "#i=0, column=['A', 'B', 'C']\n",
    "#i=1, column=['D', 'E', 'F']\n",
    "#i=2, column=['G', 'H', 'I']\n",
    "            \n",
    "            \n",
    "            \n",
    "            \n",
    "            if i!=len(columns)-1:       #we r checking this as leng-1 is the max index we have to access the elements of columns list\n",
    "                print(column[row], end=\" | \") #if i is not equal to the max index then print the | pipe otherwise dn print the pipe\n",
    "            else:\n",
    "                print(column[row], end=\"\")\n",
    "        print()  #it is out of loops as this loop will print the 1st row nd then next line character in next row\n",
    "    \n",
    "\n",
    "\n",
    "        \n",
    "\n",
    "def deposit():\n",
    "    while True:\n",
    "        amount=input(\"Enter the amount you want to deposit\")\n",
    "        if amount.isdigit():\n",
    "            amount=int(amount)\n",
    "            if amount>0:\n",
    "                break\n",
    "            else:\n",
    "                print(\"please enter a valid amount greater than 0.\")\n",
    "        else:\n",
    "            print(\"please enter a number\")\n",
    "    return amount\n",
    "\n",
    "\n",
    "\n",
    "\n",
    "\n",
    "def get_no_of_lines():\n",
    "     while True:\n",
    "        lines=input(\"Enter the no of lines to bet on(from 1-\"+ str(max_lines) + \")? \")  # hmne maxlines jo int m h usko typecaste krdia into str bcz an int + str ni ho skta..error aayega\n",
    "        if lines.isdigit():\n",
    "            lines=int(lines)\n",
    "            if 1<= lines <= max_lines:\n",
    "                break\n",
    "            else:\n",
    "                print(\"please enter valid no of lines!\")\n",
    "        else:\n",
    "            print(\"please enter a number\")\n",
    "            \n",
    "     return lines\n",
    "\n",
    "\n",
    "\n",
    "def get_bet():\n",
    "    while True:\n",
    "        amount=input(\"What would you like to bet on each line? $\")\n",
    "        if amount.isdigit():\n",
    "            amount=int(amount)\n",
    "            if 1<=amount<=100:\n",
    "                break\n",
    "            else:\n",
    "                print(\"Amount must be between $1- $100\")\n",
    "        else:\n",
    "            print(\"please enter a number\")\n",
    "    return amount\n",
    "\n",
    "\n",
    "\n",
    "\n",
    "\n",
    "def spin(balance):\n",
    "    lines=get_no_of_lines()\n",
    "    while True:\n",
    "        bet=get_bet()\n",
    "        total_bet=bet*lines\n",
    "\n",
    "        if total_bet> balance:\n",
    "            print(\"You do not have enough to bet that amount ,you current balance is: $ \" + str(balance))\n",
    "        else:\n",
    "            break\n",
    "    print(\"You are betting \" +  str(bet) +  \" on \"+ str(lines) +  \" lines.Total bet is equal to:$\"+ str(total_bet))\n",
    " \n",
    "    slots=get_slot_machine_spin(rows,cols,symbol_count) #for printing all columns in a slot spin\n",
    "    print_slot_machine(slots)\n",
    "    winnings,winning_lines=check_winnings(slots,lines,bet,symbol_value)\n",
    "    print(\"You won $ \" ,  winnings)\n",
    "    print(\"You won on lines:\" + str(winning_lines))\n",
    "    return winnings - total_bet  # it will tell how much they won..like if they won $100 but bet was for $15 then they ll get $85 \n",
    "\n",
    "\n",
    "\n",
    "\n",
    "\n",
    "def main():  # iss main function se hm baki dono functions ko use krke balance mtlb amount nd no of lines print kr skte h\n",
    "    balance = deposit()\n",
    "    while True:\n",
    "        print(\"Current balance is $\" + str(balance))\n",
    "        answer=input(\"Press enter to play (q to quit).\")\n",
    "        if answer==\"q\":\n",
    "            break\n",
    "        balance=balance+spin(balance)\n",
    "        \n",
    "        print(\"You are left with $\" + str(balance))\n",
    "\n",
    "\n",
    "main()\n",
    "    "
   ]
  },
  {
   "cell_type": "code",
   "execution_count": null,
   "id": "18b34940-190b-4bbf-8885-b7491546ecca",
   "metadata": {},
   "outputs": [],
   "source": []
  },
  {
   "cell_type": "code",
   "execution_count": null,
   "id": "8e0a9461-4fe9-4eff-87a4-180ee05cc487",
   "metadata": {},
   "outputs": [],
   "source": []
  }
 ],
 "metadata": {
  "kernelspec": {
   "display_name": "Python 3 (ipykernel)",
   "language": "python",
   "name": "python3"
  },
  "language_info": {
   "codemirror_mode": {
    "name": "ipython",
    "version": 3
   },
   "file_extension": ".py",
   "mimetype": "text/x-python",
   "name": "python",
   "nbconvert_exporter": "python",
   "pygments_lexer": "ipython3",
   "version": "3.12.4"
  }
 },
 "nbformat": 4,
 "nbformat_minor": 5
}
